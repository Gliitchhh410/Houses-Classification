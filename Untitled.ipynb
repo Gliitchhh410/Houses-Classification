{
 "cells": [
  {
   "cell_type": "code",
   "execution_count": 1,
   "id": "d5dba7aa",
   "metadata": {},
   "outputs": [],
   "source": [
    "import numpy as np\n",
    "import pandas as pd"
   ]
  },
  {
   "cell_type": "code",
   "execution_count": 7,
   "id": "7f1a4cec",
   "metadata": {},
   "outputs": [
    {
     "name": "stdout",
     "output_type": "stream",
     "text": [
      "(6080, 14)\n"
     ]
    },
    {
     "data": {
      "text/html": [
       "<div>\n",
       "<style scoped>\n",
       "    .dataframe tbody tr th:only-of-type {\n",
       "        vertical-align: middle;\n",
       "    }\n",
       "\n",
       "    .dataframe tbody tr th {\n",
       "        vertical-align: top;\n",
       "    }\n",
       "\n",
       "    .dataframe thead th {\n",
       "        text-align: right;\n",
       "    }\n",
       "</style>\n",
       "<table border=\"1\" class=\"dataframe\">\n",
       "  <thead>\n",
       "    <tr style=\"text-align: right;\">\n",
       "      <th></th>\n",
       "      <th>Unnamed: 0</th>\n",
       "      <th>city</th>\n",
       "      <th>area</th>\n",
       "      <th>rooms</th>\n",
       "      <th>bathroom</th>\n",
       "      <th>parking spaces</th>\n",
       "      <th>floor</th>\n",
       "      <th>animal</th>\n",
       "      <th>furniture</th>\n",
       "      <th>hoa</th>\n",
       "      <th>rent amount</th>\n",
       "      <th>property tax</th>\n",
       "      <th>fire insurance</th>\n",
       "      <th>total</th>\n",
       "    </tr>\n",
       "  </thead>\n",
       "  <tbody>\n",
       "    <tr>\n",
       "      <th>0</th>\n",
       "      <td>0</td>\n",
       "      <td>1</td>\n",
       "      <td>240</td>\n",
       "      <td>3</td>\n",
       "      <td>3</td>\n",
       "      <td>4</td>\n",
       "      <td>-</td>\n",
       "      <td>acept</td>\n",
       "      <td>furnished</td>\n",
       "      <td>R$0</td>\n",
       "      <td>R$8,000</td>\n",
       "      <td>R$1,000</td>\n",
       "      <td>R$121</td>\n",
       "      <td>R$9,121</td>\n",
       "    </tr>\n",
       "    <tr>\n",
       "      <th>1</th>\n",
       "      <td>1</td>\n",
       "      <td>0</td>\n",
       "      <td>64</td>\n",
       "      <td>2</td>\n",
       "      <td>1</td>\n",
       "      <td>1</td>\n",
       "      <td>10</td>\n",
       "      <td>acept</td>\n",
       "      <td>not furnished</td>\n",
       "      <td>R$540</td>\n",
       "      <td>R$820</td>\n",
       "      <td>R$122</td>\n",
       "      <td>R$11</td>\n",
       "      <td>R$1,493</td>\n",
       "    </tr>\n",
       "    <tr>\n",
       "      <th>2</th>\n",
       "      <td>2</td>\n",
       "      <td>1</td>\n",
       "      <td>443</td>\n",
       "      <td>5</td>\n",
       "      <td>5</td>\n",
       "      <td>4</td>\n",
       "      <td>3</td>\n",
       "      <td>acept</td>\n",
       "      <td>furnished</td>\n",
       "      <td>R$4,172</td>\n",
       "      <td>R$7,000</td>\n",
       "      <td>R$1,417</td>\n",
       "      <td>R$89</td>\n",
       "      <td>R$12,680</td>\n",
       "    </tr>\n",
       "    <tr>\n",
       "      <th>3</th>\n",
       "      <td>3</td>\n",
       "      <td>1</td>\n",
       "      <td>73</td>\n",
       "      <td>2</td>\n",
       "      <td>2</td>\n",
       "      <td>1</td>\n",
       "      <td>12</td>\n",
       "      <td>acept</td>\n",
       "      <td>not furnished</td>\n",
       "      <td>R$700</td>\n",
       "      <td>R$1,250</td>\n",
       "      <td>R$150</td>\n",
       "      <td>R$16</td>\n",
       "      <td>R$2,116</td>\n",
       "    </tr>\n",
       "    <tr>\n",
       "      <th>4</th>\n",
       "      <td>4</td>\n",
       "      <td>1</td>\n",
       "      <td>19</td>\n",
       "      <td>1</td>\n",
       "      <td>1</td>\n",
       "      <td>0</td>\n",
       "      <td>-</td>\n",
       "      <td>not acept</td>\n",
       "      <td>not furnished</td>\n",
       "      <td>R$0</td>\n",
       "      <td>R$1,200</td>\n",
       "      <td>R$41</td>\n",
       "      <td>R$16</td>\n",
       "      <td>R$1,257</td>\n",
       "    </tr>\n",
       "  </tbody>\n",
       "</table>\n",
       "</div>"
      ],
      "text/plain": [
       "   Unnamed: 0  city  area  rooms  bathroom  parking spaces floor     animal  \\\n",
       "0           0     1   240      3         3               4     -      acept   \n",
       "1           1     0    64      2         1               1    10      acept   \n",
       "2           2     1   443      5         5               4     3      acept   \n",
       "3           3     1    73      2         2               1    12      acept   \n",
       "4           4     1    19      1         1               0     -  not acept   \n",
       "\n",
       "       furniture      hoa rent amount property tax fire insurance     total  \n",
       "0      furnished      R$0     R$8,000      R$1,000          R$121   R$9,121  \n",
       "1  not furnished    R$540       R$820        R$122           R$11   R$1,493  \n",
       "2      furnished  R$4,172     R$7,000      R$1,417           R$89  R$12,680  \n",
       "3  not furnished    R$700     R$1,250        R$150           R$16   R$2,116  \n",
       "4  not furnished      R$0     R$1,200         R$41           R$16   R$1,257  "
      ]
     },
     "execution_count": 7,
     "metadata": {},
     "output_type": "execute_result"
    }
   ],
   "source": [
    "data = pd.read_csv('houses_to_rent.csv' )\n",
    "print(data.shape)\n",
    "data.head()"
   ]
  },
  {
   "cell_type": "code",
   "execution_count": 9,
   "id": "2c23f3a2",
   "metadata": {},
   "outputs": [],
   "source": [
    "data.drop(data.columns[0], axis = 1, inplace = True)"
   ]
  },
  {
   "cell_type": "code",
   "execution_count": 41,
   "id": "a4672693",
   "metadata": {},
   "outputs": [],
   "source": [
    "data['floor'].replace(to_replace='-' , value = 0, inplace = True)\n",
    "data['animal'].replace(to_replace='acept' , value = 1, inplace = True)\n",
    "data['animal'].replace(to_replace='not acept' , value = 0, inplace = True)\n",
    "data['furniture'].replace(to_replace='furnished' , value = 1, inplace = True)\n",
    "data['furniture'].replace(to_replace='not furnished' , value = 0, inplace = True)\n",
    "data['hoa'].replace(to_replace='Sem info' , value = 0, inplace = True)\n",
    "data['hoa'].replace(to_replace='Incluso' , value = 0, inplace = True)\n",
    "data['property tax'].replace(to_replace='Incluso' , value = 0, inplace = True)"
   ]
  },
  {
   "cell_type": "code",
   "execution_count": 43,
   "id": "a647f073",
   "metadata": {},
   "outputs": [],
   "source": [
    "for col in ['hoa', 'rent amount', 'property tax','fire insurance', 'total']:\n",
    "    data[col].replace(to_replace='R\\$', value = '',regex = True,inplace = True)\n",
    "    data[col].replace(to_replace=',', value = '',regex = True,inplace = True)\n",
    "    data[col] = data[col].astype('int64', copy=True)"
   ]
  },
  {
   "cell_type": "code",
   "execution_count": 30,
   "id": "9537a7c2",
   "metadata": {},
   "outputs": [],
   "source": [
    "data['floor'] = data['floor'].astype('int64')\n"
   ]
  },
  {
   "cell_type": "code",
   "execution_count": 44,
   "id": "dfeee22f",
   "metadata": {},
   "outputs": [
    {
     "data": {
      "text/plain": [
       "city              int64\n",
       "area              int64\n",
       "rooms             int64\n",
       "bathroom          int64\n",
       "parking spaces    int64\n",
       "floor             int64\n",
       "animal            int64\n",
       "furniture         int64\n",
       "hoa               int64\n",
       "rent amount       int64\n",
       "property tax      int64\n",
       "fire insurance    int64\n",
       "total             int64\n",
       "dtype: object"
      ]
     },
     "execution_count": 44,
     "metadata": {},
     "output_type": "execute_result"
    }
   ],
   "source": [
    "data.dtypes"
   ]
  },
  {
   "cell_type": "code",
   "execution_count": 42,
   "id": "b83e7d2b",
   "metadata": {},
   "outputs": [
    {
     "data": {
      "text/plain": [
       "city              False\n",
       "area              False\n",
       "rooms             False\n",
       "bathroom          False\n",
       "parking spaces    False\n",
       "floor             False\n",
       "animal            False\n",
       "furniture         False\n",
       "hoa               False\n",
       "rent amount       False\n",
       "property tax      False\n",
       "fire insurance    False\n",
       "total             False\n",
       "dtype: bool"
      ]
     },
     "execution_count": 42,
     "metadata": {},
     "output_type": "execute_result"
    }
   ],
   "source": [
    "data.isin(['Incluso']).any()\n",
    "data.isin(['Sem info']).any()"
   ]
  },
  {
   "cell_type": "code",
   "execution_count": 46,
   "id": "4a5ff1ca",
   "metadata": {},
   "outputs": [],
   "source": [
    "data = data.sample(frac = 1).reset_index(drop = True)"
   ]
  },
  {
   "cell_type": "code",
   "execution_count": 47,
   "id": "e4f12d20",
   "metadata": {},
   "outputs": [
    {
     "data": {
      "text/html": [
       "<div>\n",
       "<style scoped>\n",
       "    .dataframe tbody tr th:only-of-type {\n",
       "        vertical-align: middle;\n",
       "    }\n",
       "\n",
       "    .dataframe tbody tr th {\n",
       "        vertical-align: top;\n",
       "    }\n",
       "\n",
       "    .dataframe thead th {\n",
       "        text-align: right;\n",
       "    }\n",
       "</style>\n",
       "<table border=\"1\" class=\"dataframe\">\n",
       "  <thead>\n",
       "    <tr style=\"text-align: right;\">\n",
       "      <th></th>\n",
       "      <th>city</th>\n",
       "      <th>area</th>\n",
       "      <th>rooms</th>\n",
       "      <th>bathroom</th>\n",
       "      <th>parking spaces</th>\n",
       "      <th>floor</th>\n",
       "      <th>animal</th>\n",
       "      <th>furniture</th>\n",
       "      <th>hoa</th>\n",
       "      <th>rent amount</th>\n",
       "      <th>property tax</th>\n",
       "      <th>fire insurance</th>\n",
       "      <th>total</th>\n",
       "    </tr>\n",
       "  </thead>\n",
       "  <tbody>\n",
       "    <tr>\n",
       "      <th>0</th>\n",
       "      <td>1</td>\n",
       "      <td>42</td>\n",
       "      <td>1</td>\n",
       "      <td>1</td>\n",
       "      <td>1</td>\n",
       "      <td>3</td>\n",
       "      <td>1</td>\n",
       "      <td>0</td>\n",
       "      <td>450</td>\n",
       "      <td>2700</td>\n",
       "      <td>52</td>\n",
       "      <td>35</td>\n",
       "      <td>3237</td>\n",
       "    </tr>\n",
       "    <tr>\n",
       "      <th>1</th>\n",
       "      <td>1</td>\n",
       "      <td>114</td>\n",
       "      <td>3</td>\n",
       "      <td>1</td>\n",
       "      <td>0</td>\n",
       "      <td>0</td>\n",
       "      <td>1</td>\n",
       "      <td>0</td>\n",
       "      <td>0</td>\n",
       "      <td>2650</td>\n",
       "      <td>150</td>\n",
       "      <td>40</td>\n",
       "      <td>2840</td>\n",
       "    </tr>\n",
       "    <tr>\n",
       "      <th>2</th>\n",
       "      <td>1</td>\n",
       "      <td>35</td>\n",
       "      <td>2</td>\n",
       "      <td>1</td>\n",
       "      <td>1</td>\n",
       "      <td>0</td>\n",
       "      <td>1</td>\n",
       "      <td>0</td>\n",
       "      <td>125</td>\n",
       "      <td>2100</td>\n",
       "      <td>0</td>\n",
       "      <td>32</td>\n",
       "      <td>2257</td>\n",
       "    </tr>\n",
       "    <tr>\n",
       "      <th>3</th>\n",
       "      <td>1</td>\n",
       "      <td>84</td>\n",
       "      <td>3</td>\n",
       "      <td>2</td>\n",
       "      <td>2</td>\n",
       "      <td>7</td>\n",
       "      <td>0</td>\n",
       "      <td>0</td>\n",
       "      <td>900</td>\n",
       "      <td>2640</td>\n",
       "      <td>740</td>\n",
       "      <td>34</td>\n",
       "      <td>4314</td>\n",
       "    </tr>\n",
       "    <tr>\n",
       "      <th>4</th>\n",
       "      <td>0</td>\n",
       "      <td>49</td>\n",
       "      <td>2</td>\n",
       "      <td>1</td>\n",
       "      <td>1</td>\n",
       "      <td>5</td>\n",
       "      <td>1</td>\n",
       "      <td>0</td>\n",
       "      <td>273</td>\n",
       "      <td>1010</td>\n",
       "      <td>0</td>\n",
       "      <td>13</td>\n",
       "      <td>1296</td>\n",
       "    </tr>\n",
       "    <tr>\n",
       "      <th>...</th>\n",
       "      <td>...</td>\n",
       "      <td>...</td>\n",
       "      <td>...</td>\n",
       "      <td>...</td>\n",
       "      <td>...</td>\n",
       "      <td>...</td>\n",
       "      <td>...</td>\n",
       "      <td>...</td>\n",
       "      <td>...</td>\n",
       "      <td>...</td>\n",
       "      <td>...</td>\n",
       "      <td>...</td>\n",
       "      <td>...</td>\n",
       "    </tr>\n",
       "    <tr>\n",
       "      <th>6075</th>\n",
       "      <td>1</td>\n",
       "      <td>250</td>\n",
       "      <td>3</td>\n",
       "      <td>2</td>\n",
       "      <td>8</td>\n",
       "      <td>0</td>\n",
       "      <td>1</td>\n",
       "      <td>0</td>\n",
       "      <td>0</td>\n",
       "      <td>6500</td>\n",
       "      <td>1360</td>\n",
       "      <td>98</td>\n",
       "      <td>7958</td>\n",
       "    </tr>\n",
       "    <tr>\n",
       "      <th>6076</th>\n",
       "      <td>1</td>\n",
       "      <td>40</td>\n",
       "      <td>1</td>\n",
       "      <td>1</td>\n",
       "      <td>0</td>\n",
       "      <td>3</td>\n",
       "      <td>1</td>\n",
       "      <td>1</td>\n",
       "      <td>350</td>\n",
       "      <td>1840</td>\n",
       "      <td>40</td>\n",
       "      <td>24</td>\n",
       "      <td>2254</td>\n",
       "    </tr>\n",
       "    <tr>\n",
       "      <th>6077</th>\n",
       "      <td>1</td>\n",
       "      <td>210</td>\n",
       "      <td>3</td>\n",
       "      <td>5</td>\n",
       "      <td>4</td>\n",
       "      <td>6</td>\n",
       "      <td>1</td>\n",
       "      <td>1</td>\n",
       "      <td>3301</td>\n",
       "      <td>11900</td>\n",
       "      <td>960</td>\n",
       "      <td>151</td>\n",
       "      <td>16310</td>\n",
       "    </tr>\n",
       "    <tr>\n",
       "      <th>6078</th>\n",
       "      <td>1</td>\n",
       "      <td>56</td>\n",
       "      <td>2</td>\n",
       "      <td>2</td>\n",
       "      <td>2</td>\n",
       "      <td>1</td>\n",
       "      <td>1</td>\n",
       "      <td>0</td>\n",
       "      <td>480</td>\n",
       "      <td>1630</td>\n",
       "      <td>42</td>\n",
       "      <td>21</td>\n",
       "      <td>2173</td>\n",
       "    </tr>\n",
       "    <tr>\n",
       "      <th>6079</th>\n",
       "      <td>1</td>\n",
       "      <td>200</td>\n",
       "      <td>2</td>\n",
       "      <td>2</td>\n",
       "      <td>2</td>\n",
       "      <td>0</td>\n",
       "      <td>1</td>\n",
       "      <td>0</td>\n",
       "      <td>1</td>\n",
       "      <td>3000</td>\n",
       "      <td>167</td>\n",
       "      <td>46</td>\n",
       "      <td>3214</td>\n",
       "    </tr>\n",
       "  </tbody>\n",
       "</table>\n",
       "<p>6080 rows × 13 columns</p>\n",
       "</div>"
      ],
      "text/plain": [
       "      city  area  rooms  bathroom  parking spaces  floor  animal  furniture  \\\n",
       "0        1    42      1         1               1      3       1          0   \n",
       "1        1   114      3         1               0      0       1          0   \n",
       "2        1    35      2         1               1      0       1          0   \n",
       "3        1    84      3         2               2      7       0          0   \n",
       "4        0    49      2         1               1      5       1          0   \n",
       "...    ...   ...    ...       ...             ...    ...     ...        ...   \n",
       "6075     1   250      3         2               8      0       1          0   \n",
       "6076     1    40      1         1               0      3       1          1   \n",
       "6077     1   210      3         5               4      6       1          1   \n",
       "6078     1    56      2         2               2      1       1          0   \n",
       "6079     1   200      2         2               2      0       1          0   \n",
       "\n",
       "       hoa  rent amount  property tax  fire insurance  total  \n",
       "0      450         2700            52              35   3237  \n",
       "1        0         2650           150              40   2840  \n",
       "2      125         2100             0              32   2257  \n",
       "3      900         2640           740              34   4314  \n",
       "4      273         1010             0              13   1296  \n",
       "...    ...          ...           ...             ...    ...  \n",
       "6075     0         6500          1360              98   7958  \n",
       "6076   350         1840            40              24   2254  \n",
       "6077  3301        11900           960             151  16310  \n",
       "6078   480         1630            42              21   2173  \n",
       "6079     1         3000           167              46   3214  \n",
       "\n",
       "[6080 rows x 13 columns]"
      ]
     },
     "execution_count": 47,
     "metadata": {},
     "output_type": "execute_result"
    }
   ],
   "source": [
    "data"
   ]
  },
  {
   "cell_type": "code",
   "execution_count": 50,
   "id": "8a93adae",
   "metadata": {},
   "outputs": [],
   "source": [
    "y = data['city']\n",
    "X = data.drop('city', axis=1)"
   ]
  },
  {
   "cell_type": "code",
   "execution_count": 53,
   "id": "f114bbe6",
   "metadata": {},
   "outputs": [],
   "source": [
    "from sklearn.model_selection import train_test_split\n",
    "\n",
    "from sklearn.preprocessing import MinMaxScaler"
   ]
  },
  {
   "cell_type": "code",
   "execution_count": 55,
   "id": "dbff5281",
   "metadata": {},
   "outputs": [
    {
     "data": {
      "text/html": [
       "<div>\n",
       "<style scoped>\n",
       "    .dataframe tbody tr th:only-of-type {\n",
       "        vertical-align: middle;\n",
       "    }\n",
       "\n",
       "    .dataframe tbody tr th {\n",
       "        vertical-align: top;\n",
       "    }\n",
       "\n",
       "    .dataframe thead th {\n",
       "        text-align: right;\n",
       "    }\n",
       "</style>\n",
       "<table border=\"1\" class=\"dataframe\">\n",
       "  <thead>\n",
       "    <tr style=\"text-align: right;\">\n",
       "      <th></th>\n",
       "      <th>0</th>\n",
       "      <th>1</th>\n",
       "      <th>2</th>\n",
       "      <th>3</th>\n",
       "      <th>4</th>\n",
       "      <th>5</th>\n",
       "      <th>6</th>\n",
       "      <th>7</th>\n",
       "      <th>8</th>\n",
       "      <th>9</th>\n",
       "      <th>10</th>\n",
       "      <th>11</th>\n",
       "    </tr>\n",
       "  </thead>\n",
       "  <tbody>\n",
       "    <tr>\n",
       "      <th>0</th>\n",
       "      <td>0.001301</td>\n",
       "      <td>0.000000</td>\n",
       "      <td>0.000000</td>\n",
       "      <td>0.083333</td>\n",
       "      <td>0.030303</td>\n",
       "      <td>1.0</td>\n",
       "      <td>0.0</td>\n",
       "      <td>0.002045</td>\n",
       "      <td>0.051144</td>\n",
       "      <td>0.000142</td>\n",
       "      <td>0.047478</td>\n",
       "      <td>0.006927</td>\n",
       "    </tr>\n",
       "    <tr>\n",
       "      <th>1</th>\n",
       "      <td>0.004228</td>\n",
       "      <td>0.222222</td>\n",
       "      <td>0.000000</td>\n",
       "      <td>0.000000</td>\n",
       "      <td>0.000000</td>\n",
       "      <td>1.0</td>\n",
       "      <td>0.0</td>\n",
       "      <td>0.000000</td>\n",
       "      <td>0.050022</td>\n",
       "      <td>0.000410</td>\n",
       "      <td>0.054896</td>\n",
       "      <td>0.005860</td>\n",
       "    </tr>\n",
       "    <tr>\n",
       "      <th>2</th>\n",
       "      <td>0.001016</td>\n",
       "      <td>0.111111</td>\n",
       "      <td>0.000000</td>\n",
       "      <td>0.083333</td>\n",
       "      <td>0.000000</td>\n",
       "      <td>1.0</td>\n",
       "      <td>0.0</td>\n",
       "      <td>0.000568</td>\n",
       "      <td>0.037685</td>\n",
       "      <td>0.000000</td>\n",
       "      <td>0.043027</td>\n",
       "      <td>0.004293</td>\n",
       "    </tr>\n",
       "    <tr>\n",
       "      <th>3</th>\n",
       "      <td>0.003009</td>\n",
       "      <td>0.222222</td>\n",
       "      <td>0.111111</td>\n",
       "      <td>0.166667</td>\n",
       "      <td>0.070707</td>\n",
       "      <td>0.0</td>\n",
       "      <td>0.0</td>\n",
       "      <td>0.004091</td>\n",
       "      <td>0.049798</td>\n",
       "      <td>0.002020</td>\n",
       "      <td>0.045994</td>\n",
       "      <td>0.009822</td>\n",
       "    </tr>\n",
       "    <tr>\n",
       "      <th>4</th>\n",
       "      <td>0.001586</td>\n",
       "      <td>0.111111</td>\n",
       "      <td>0.000000</td>\n",
       "      <td>0.083333</td>\n",
       "      <td>0.050505</td>\n",
       "      <td>1.0</td>\n",
       "      <td>0.0</td>\n",
       "      <td>0.001241</td>\n",
       "      <td>0.013235</td>\n",
       "      <td>0.000000</td>\n",
       "      <td>0.014837</td>\n",
       "      <td>0.001709</td>\n",
       "    </tr>\n",
       "    <tr>\n",
       "      <th>...</th>\n",
       "      <td>...</td>\n",
       "      <td>...</td>\n",
       "      <td>...</td>\n",
       "      <td>...</td>\n",
       "      <td>...</td>\n",
       "      <td>...</td>\n",
       "      <td>...</td>\n",
       "      <td>...</td>\n",
       "      <td>...</td>\n",
       "      <td>...</td>\n",
       "      <td>...</td>\n",
       "      <td>...</td>\n",
       "    </tr>\n",
       "    <tr>\n",
       "      <th>6075</th>\n",
       "      <td>0.009758</td>\n",
       "      <td>0.222222</td>\n",
       "      <td>0.111111</td>\n",
       "      <td>0.666667</td>\n",
       "      <td>0.000000</td>\n",
       "      <td>1.0</td>\n",
       "      <td>0.0</td>\n",
       "      <td>0.000000</td>\n",
       "      <td>0.136384</td>\n",
       "      <td>0.003713</td>\n",
       "      <td>0.140950</td>\n",
       "      <td>0.019616</td>\n",
       "    </tr>\n",
       "    <tr>\n",
       "      <th>6076</th>\n",
       "      <td>0.001220</td>\n",
       "      <td>0.000000</td>\n",
       "      <td>0.000000</td>\n",
       "      <td>0.000000</td>\n",
       "      <td>0.030303</td>\n",
       "      <td>1.0</td>\n",
       "      <td>1.0</td>\n",
       "      <td>0.001591</td>\n",
       "      <td>0.031853</td>\n",
       "      <td>0.000109</td>\n",
       "      <td>0.031157</td>\n",
       "      <td>0.004284</td>\n",
       "    </tr>\n",
       "    <tr>\n",
       "      <th>6077</th>\n",
       "      <td>0.008131</td>\n",
       "      <td>0.222222</td>\n",
       "      <td>0.444444</td>\n",
       "      <td>0.333333</td>\n",
       "      <td>0.060606</td>\n",
       "      <td>1.0</td>\n",
       "      <td>1.0</td>\n",
       "      <td>0.015005</td>\n",
       "      <td>0.257515</td>\n",
       "      <td>0.002621</td>\n",
       "      <td>0.219585</td>\n",
       "      <td>0.042065</td>\n",
       "    </tr>\n",
       "    <tr>\n",
       "      <th>6078</th>\n",
       "      <td>0.001870</td>\n",
       "      <td>0.111111</td>\n",
       "      <td>0.111111</td>\n",
       "      <td>0.166667</td>\n",
       "      <td>0.010101</td>\n",
       "      <td>1.0</td>\n",
       "      <td>0.0</td>\n",
       "      <td>0.002182</td>\n",
       "      <td>0.027142</td>\n",
       "      <td>0.000115</td>\n",
       "      <td>0.026706</td>\n",
       "      <td>0.004067</td>\n",
       "    </tr>\n",
       "    <tr>\n",
       "      <th>6079</th>\n",
       "      <td>0.007725</td>\n",
       "      <td>0.111111</td>\n",
       "      <td>0.111111</td>\n",
       "      <td>0.166667</td>\n",
       "      <td>0.000000</td>\n",
       "      <td>1.0</td>\n",
       "      <td>0.0</td>\n",
       "      <td>0.000005</td>\n",
       "      <td>0.057873</td>\n",
       "      <td>0.000456</td>\n",
       "      <td>0.063798</td>\n",
       "      <td>0.006865</td>\n",
       "    </tr>\n",
       "  </tbody>\n",
       "</table>\n",
       "<p>6080 rows × 12 columns</p>\n",
       "</div>"
      ],
      "text/plain": [
       "            0         1         2         3         4    5    6         7   \\\n",
       "0     0.001301  0.000000  0.000000  0.083333  0.030303  1.0  0.0  0.002045   \n",
       "1     0.004228  0.222222  0.000000  0.000000  0.000000  1.0  0.0  0.000000   \n",
       "2     0.001016  0.111111  0.000000  0.083333  0.000000  1.0  0.0  0.000568   \n",
       "3     0.003009  0.222222  0.111111  0.166667  0.070707  0.0  0.0  0.004091   \n",
       "4     0.001586  0.111111  0.000000  0.083333  0.050505  1.0  0.0  0.001241   \n",
       "...        ...       ...       ...       ...       ...  ...  ...       ...   \n",
       "6075  0.009758  0.222222  0.111111  0.666667  0.000000  1.0  0.0  0.000000   \n",
       "6076  0.001220  0.000000  0.000000  0.000000  0.030303  1.0  1.0  0.001591   \n",
       "6077  0.008131  0.222222  0.444444  0.333333  0.060606  1.0  1.0  0.015005   \n",
       "6078  0.001870  0.111111  0.111111  0.166667  0.010101  1.0  0.0  0.002182   \n",
       "6079  0.007725  0.111111  0.111111  0.166667  0.000000  1.0  0.0  0.000005   \n",
       "\n",
       "            8         9         10        11  \n",
       "0     0.051144  0.000142  0.047478  0.006927  \n",
       "1     0.050022  0.000410  0.054896  0.005860  \n",
       "2     0.037685  0.000000  0.043027  0.004293  \n",
       "3     0.049798  0.002020  0.045994  0.009822  \n",
       "4     0.013235  0.000000  0.014837  0.001709  \n",
       "...        ...       ...       ...       ...  \n",
       "6075  0.136384  0.003713  0.140950  0.019616  \n",
       "6076  0.031853  0.000109  0.031157  0.004284  \n",
       "6077  0.257515  0.002621  0.219585  0.042065  \n",
       "6078  0.027142  0.000115  0.026706  0.004067  \n",
       "6079  0.057873  0.000456  0.063798  0.006865  \n",
       "\n",
       "[6080 rows x 12 columns]"
      ]
     },
     "execution_count": 55,
     "metadata": {},
     "output_type": "execute_result"
    }
   ],
   "source": [
    "scaler = MinMaxScaler()\n",
    "scaler.fit(X)\n",
    "X = scaler.transform(X)\n",
    "pd.DataFrame(X)"
   ]
  },
  {
   "cell_type": "code",
   "execution_count": 56,
   "id": "40b10203",
   "metadata": {},
   "outputs": [],
   "source": [
    "X_train, X_test, y_train, y_test = train_test_split(X,y , train_size=0.8)"
   ]
  },
  {
   "cell_type": "code",
   "execution_count": 63,
   "id": "bcbfaba4",
   "metadata": {},
   "outputs": [
    {
     "name": "stdout",
     "output_type": "stream",
     "text": [
      "(1216,)\n",
      "(1216, 12)\n"
     ]
    }
   ],
   "source": [
    "print(y_test.shape)\n",
    "print(X_test.shape)"
   ]
  },
  {
   "cell_type": "code",
   "execution_count": 64,
   "id": "6e7f1746",
   "metadata": {},
   "outputs": [],
   "source": [
    "from sklearn.linear_model import LogisticRegression\n",
    "from sklearn.svm import SVC\n",
    "from sklearn.neural_network import MLPClassifier"
   ]
  },
  {
   "cell_type": "markdown",
   "id": "abe6b017",
   "metadata": {},
   "source": [
    "# Logistice Regression"
   ]
  },
  {
   "cell_type": "code",
   "execution_count": 75,
   "id": "79d53d0a",
   "metadata": {},
   "outputs": [],
   "source": [
    "log_model = LogisticRegression(penalty='l2', verbose=1)"
   ]
  },
  {
   "cell_type": "code",
   "execution_count": 78,
   "id": "cbc65d63",
   "metadata": {},
   "outputs": [
    {
     "name": "stderr",
     "output_type": "stream",
     "text": [
      "[Parallel(n_jobs=1)]: Using backend SequentialBackend with 1 concurrent workers.\n",
      "[Parallel(n_jobs=1)]: Done   1 out of   1 | elapsed:    0.0s finished\n"
     ]
    },
    {
     "data": {
      "text/html": [
       "<style>#sk-container-id-5 {color: black;background-color: white;}#sk-container-id-5 pre{padding: 0;}#sk-container-id-5 div.sk-toggleable {background-color: white;}#sk-container-id-5 label.sk-toggleable__label {cursor: pointer;display: block;width: 100%;margin-bottom: 0;padding: 0.3em;box-sizing: border-box;text-align: center;}#sk-container-id-5 label.sk-toggleable__label-arrow:before {content: \"▸\";float: left;margin-right: 0.25em;color: #696969;}#sk-container-id-5 label.sk-toggleable__label-arrow:hover:before {color: black;}#sk-container-id-5 div.sk-estimator:hover label.sk-toggleable__label-arrow:before {color: black;}#sk-container-id-5 div.sk-toggleable__content {max-height: 0;max-width: 0;overflow: hidden;text-align: left;background-color: #f0f8ff;}#sk-container-id-5 div.sk-toggleable__content pre {margin: 0.2em;color: black;border-radius: 0.25em;background-color: #f0f8ff;}#sk-container-id-5 input.sk-toggleable__control:checked~div.sk-toggleable__content {max-height: 200px;max-width: 100%;overflow: auto;}#sk-container-id-5 input.sk-toggleable__control:checked~label.sk-toggleable__label-arrow:before {content: \"▾\";}#sk-container-id-5 div.sk-estimator input.sk-toggleable__control:checked~label.sk-toggleable__label {background-color: #d4ebff;}#sk-container-id-5 div.sk-label input.sk-toggleable__control:checked~label.sk-toggleable__label {background-color: #d4ebff;}#sk-container-id-5 input.sk-hidden--visually {border: 0;clip: rect(1px 1px 1px 1px);clip: rect(1px, 1px, 1px, 1px);height: 1px;margin: -1px;overflow: hidden;padding: 0;position: absolute;width: 1px;}#sk-container-id-5 div.sk-estimator {font-family: monospace;background-color: #f0f8ff;border: 1px dotted black;border-radius: 0.25em;box-sizing: border-box;margin-bottom: 0.5em;}#sk-container-id-5 div.sk-estimator:hover {background-color: #d4ebff;}#sk-container-id-5 div.sk-parallel-item::after {content: \"\";width: 100%;border-bottom: 1px solid gray;flex-grow: 1;}#sk-container-id-5 div.sk-label:hover label.sk-toggleable__label {background-color: #d4ebff;}#sk-container-id-5 div.sk-serial::before {content: \"\";position: absolute;border-left: 1px solid gray;box-sizing: border-box;top: 0;bottom: 0;left: 50%;z-index: 0;}#sk-container-id-5 div.sk-serial {display: flex;flex-direction: column;align-items: center;background-color: white;padding-right: 0.2em;padding-left: 0.2em;position: relative;}#sk-container-id-5 div.sk-item {position: relative;z-index: 1;}#sk-container-id-5 div.sk-parallel {display: flex;align-items: stretch;justify-content: center;background-color: white;position: relative;}#sk-container-id-5 div.sk-item::before, #sk-container-id-5 div.sk-parallel-item::before {content: \"\";position: absolute;border-left: 1px solid gray;box-sizing: border-box;top: 0;bottom: 0;left: 50%;z-index: -1;}#sk-container-id-5 div.sk-parallel-item {display: flex;flex-direction: column;z-index: 1;position: relative;background-color: white;}#sk-container-id-5 div.sk-parallel-item:first-child::after {align-self: flex-end;width: 50%;}#sk-container-id-5 div.sk-parallel-item:last-child::after {align-self: flex-start;width: 50%;}#sk-container-id-5 div.sk-parallel-item:only-child::after {width: 0;}#sk-container-id-5 div.sk-dashed-wrapped {border: 1px dashed gray;margin: 0 0.4em 0.5em 0.4em;box-sizing: border-box;padding-bottom: 0.4em;background-color: white;}#sk-container-id-5 div.sk-label label {font-family: monospace;font-weight: bold;display: inline-block;line-height: 1.2em;}#sk-container-id-5 div.sk-label-container {text-align: center;}#sk-container-id-5 div.sk-container {/* jupyter's `normalize.less` sets `[hidden] { display: none; }` but bootstrap.min.css set `[hidden] { display: none !important; }` so we also need the `!important` here to be able to override the default hidden behavior on the sphinx rendered scikit-learn.org. See: https://github.com/scikit-learn/scikit-learn/issues/21755 */display: inline-block !important;position: relative;}#sk-container-id-5 div.sk-text-repr-fallback {display: none;}</style><div id=\"sk-container-id-5\" class=\"sk-top-container\"><div class=\"sk-text-repr-fallback\"><pre>LogisticRegression(verbose=1)</pre><b>In a Jupyter environment, please rerun this cell to show the HTML representation or trust the notebook. <br />On GitHub, the HTML representation is unable to render, please try loading this page with nbviewer.org.</b></div><div class=\"sk-container\" hidden><div class=\"sk-item\"><div class=\"sk-estimator sk-toggleable\"><input class=\"sk-toggleable__control sk-hidden--visually\" id=\"sk-estimator-id-5\" type=\"checkbox\" checked><label for=\"sk-estimator-id-5\" class=\"sk-toggleable__label sk-toggleable__label-arrow\">LogisticRegression</label><div class=\"sk-toggleable__content\"><pre>LogisticRegression(verbose=1)</pre></div></div></div></div></div>"
      ],
      "text/plain": [
       "LogisticRegression(verbose=1)"
      ]
     },
     "execution_count": 78,
     "metadata": {},
     "output_type": "execute_result"
    }
   ],
   "source": [
    "log_model.fit(X_train, y_train)\n"
   ]
  },
  {
   "cell_type": "markdown",
   "id": "db8eb52d",
   "metadata": {},
   "source": [
    "# SVM\n"
   ]
  },
  {
   "cell_type": "code",
   "execution_count": 66,
   "id": "3f1ed26c",
   "metadata": {},
   "outputs": [],
   "source": [
    "svm_model = SVC(kernel='linear',verbose=1) ## try default aka rbf\n"
   ]
  },
  {
   "cell_type": "code",
   "execution_count": 79,
   "id": "7897ec9d",
   "metadata": {},
   "outputs": [
    {
     "name": "stdout",
     "output_type": "stream",
     "text": [
      "[LibSVM]"
     ]
    },
    {
     "data": {
      "text/html": [
       "<style>#sk-container-id-6 {color: black;background-color: white;}#sk-container-id-6 pre{padding: 0;}#sk-container-id-6 div.sk-toggleable {background-color: white;}#sk-container-id-6 label.sk-toggleable__label {cursor: pointer;display: block;width: 100%;margin-bottom: 0;padding: 0.3em;box-sizing: border-box;text-align: center;}#sk-container-id-6 label.sk-toggleable__label-arrow:before {content: \"▸\";float: left;margin-right: 0.25em;color: #696969;}#sk-container-id-6 label.sk-toggleable__label-arrow:hover:before {color: black;}#sk-container-id-6 div.sk-estimator:hover label.sk-toggleable__label-arrow:before {color: black;}#sk-container-id-6 div.sk-toggleable__content {max-height: 0;max-width: 0;overflow: hidden;text-align: left;background-color: #f0f8ff;}#sk-container-id-6 div.sk-toggleable__content pre {margin: 0.2em;color: black;border-radius: 0.25em;background-color: #f0f8ff;}#sk-container-id-6 input.sk-toggleable__control:checked~div.sk-toggleable__content {max-height: 200px;max-width: 100%;overflow: auto;}#sk-container-id-6 input.sk-toggleable__control:checked~label.sk-toggleable__label-arrow:before {content: \"▾\";}#sk-container-id-6 div.sk-estimator input.sk-toggleable__control:checked~label.sk-toggleable__label {background-color: #d4ebff;}#sk-container-id-6 div.sk-label input.sk-toggleable__control:checked~label.sk-toggleable__label {background-color: #d4ebff;}#sk-container-id-6 input.sk-hidden--visually {border: 0;clip: rect(1px 1px 1px 1px);clip: rect(1px, 1px, 1px, 1px);height: 1px;margin: -1px;overflow: hidden;padding: 0;position: absolute;width: 1px;}#sk-container-id-6 div.sk-estimator {font-family: monospace;background-color: #f0f8ff;border: 1px dotted black;border-radius: 0.25em;box-sizing: border-box;margin-bottom: 0.5em;}#sk-container-id-6 div.sk-estimator:hover {background-color: #d4ebff;}#sk-container-id-6 div.sk-parallel-item::after {content: \"\";width: 100%;border-bottom: 1px solid gray;flex-grow: 1;}#sk-container-id-6 div.sk-label:hover label.sk-toggleable__label {background-color: #d4ebff;}#sk-container-id-6 div.sk-serial::before {content: \"\";position: absolute;border-left: 1px solid gray;box-sizing: border-box;top: 0;bottom: 0;left: 50%;z-index: 0;}#sk-container-id-6 div.sk-serial {display: flex;flex-direction: column;align-items: center;background-color: white;padding-right: 0.2em;padding-left: 0.2em;position: relative;}#sk-container-id-6 div.sk-item {position: relative;z-index: 1;}#sk-container-id-6 div.sk-parallel {display: flex;align-items: stretch;justify-content: center;background-color: white;position: relative;}#sk-container-id-6 div.sk-item::before, #sk-container-id-6 div.sk-parallel-item::before {content: \"\";position: absolute;border-left: 1px solid gray;box-sizing: border-box;top: 0;bottom: 0;left: 50%;z-index: -1;}#sk-container-id-6 div.sk-parallel-item {display: flex;flex-direction: column;z-index: 1;position: relative;background-color: white;}#sk-container-id-6 div.sk-parallel-item:first-child::after {align-self: flex-end;width: 50%;}#sk-container-id-6 div.sk-parallel-item:last-child::after {align-self: flex-start;width: 50%;}#sk-container-id-6 div.sk-parallel-item:only-child::after {width: 0;}#sk-container-id-6 div.sk-dashed-wrapped {border: 1px dashed gray;margin: 0 0.4em 0.5em 0.4em;box-sizing: border-box;padding-bottom: 0.4em;background-color: white;}#sk-container-id-6 div.sk-label label {font-family: monospace;font-weight: bold;display: inline-block;line-height: 1.2em;}#sk-container-id-6 div.sk-label-container {text-align: center;}#sk-container-id-6 div.sk-container {/* jupyter's `normalize.less` sets `[hidden] { display: none; }` but bootstrap.min.css set `[hidden] { display: none !important; }` so we also need the `!important` here to be able to override the default hidden behavior on the sphinx rendered scikit-learn.org. See: https://github.com/scikit-learn/scikit-learn/issues/21755 */display: inline-block !important;position: relative;}#sk-container-id-6 div.sk-text-repr-fallback {display: none;}</style><div id=\"sk-container-id-6\" class=\"sk-top-container\"><div class=\"sk-text-repr-fallback\"><pre>SVC(kernel=&#x27;linear&#x27;, verbose=1)</pre><b>In a Jupyter environment, please rerun this cell to show the HTML representation or trust the notebook. <br />On GitHub, the HTML representation is unable to render, please try loading this page with nbviewer.org.</b></div><div class=\"sk-container\" hidden><div class=\"sk-item\"><div class=\"sk-estimator sk-toggleable\"><input class=\"sk-toggleable__control sk-hidden--visually\" id=\"sk-estimator-id-6\" type=\"checkbox\" checked><label for=\"sk-estimator-id-6\" class=\"sk-toggleable__label sk-toggleable__label-arrow\">SVC</label><div class=\"sk-toggleable__content\"><pre>SVC(kernel=&#x27;linear&#x27;, verbose=1)</pre></div></div></div></div></div>"
      ],
      "text/plain": [
       "SVC(kernel='linear', verbose=1)"
      ]
     },
     "execution_count": 79,
     "metadata": {},
     "output_type": "execute_result"
    }
   ],
   "source": [
    "svm_model.fit(X_train, y_train)\n"
   ]
  },
  {
   "cell_type": "markdown",
   "id": "032d1ac4",
   "metadata": {},
   "source": [
    "# Neural Network"
   ]
  },
  {
   "cell_type": "code",
   "execution_count": 72,
   "id": "5cde9fc3",
   "metadata": {},
   "outputs": [
    {
     "ename": "TypeError",
     "evalue": "MLPClassifier.__init__() got an unexpected keyword argument 'max_iterations'",
     "output_type": "error",
     "traceback": [
      "\u001b[1;31m---------------------------------------------------------------------------\u001b[0m",
      "\u001b[1;31mTypeError\u001b[0m                                 Traceback (most recent call last)",
      "Cell \u001b[1;32mIn[72], line 1\u001b[0m\n\u001b[1;32m----> 1\u001b[0m nn_model \u001b[38;5;241m=\u001b[39m \u001b[43mMLPClassifier\u001b[49m\u001b[43m(\u001b[49m\u001b[43mhidden_layer_sizes\u001b[49m\u001b[38;5;241;43m=\u001b[39;49m\u001b[43m(\u001b[49m\u001b[38;5;241;43m16\u001b[39;49m\u001b[43m,\u001b[49m\u001b[38;5;241;43m16\u001b[39;49m\u001b[43m)\u001b[49m\u001b[43m \u001b[49m\u001b[43m,\u001b[49m\u001b[43mverbose\u001b[49m\u001b[38;5;241;43m=\u001b[39;49m\u001b[38;5;241;43m1\u001b[39;49m\u001b[43m,\u001b[49m\u001b[43m \u001b[49m\u001b[43mactivation\u001b[49m\u001b[38;5;241;43m=\u001b[39;49m\u001b[38;5;124;43m'\u001b[39;49m\u001b[38;5;124;43mrelu\u001b[39;49m\u001b[38;5;124;43m'\u001b[39;49m\u001b[43m,\u001b[49m\u001b[43msolver\u001b[49m\u001b[38;5;241;43m=\u001b[39;49m\u001b[38;5;124;43m'\u001b[39;49m\u001b[38;5;124;43madam\u001b[39;49m\u001b[38;5;124;43m'\u001b[39;49m\u001b[43m,\u001b[49m\u001b[43mmax_iterations\u001b[49m\u001b[43m \u001b[49m\u001b[38;5;241;43m=\u001b[39;49m\u001b[43m \u001b[49m\u001b[38;5;241;43m1000\u001b[39;49m\u001b[43m)\u001b[49m\n",
      "\u001b[1;31mTypeError\u001b[0m: MLPClassifier.__init__() got an unexpected keyword argument 'max_iterations'"
     ]
    }
   ],
   "source": [
    "nn_model = MLPClassifier(hidden_layer_sizes=(16,16) ,verbose=1, activation='relu',solver='adam')"
   ]
  },
  {
   "cell_type": "code",
   "execution_count": 77,
   "id": "e4b4c4f4",
   "metadata": {},
   "outputs": [
    {
     "name": "stdout",
     "output_type": "stream",
     "text": [
      "Iteration 1, loss = 0.40826321\n",
      "Iteration 2, loss = 0.39775473\n",
      "Iteration 3, loss = 0.39515244\n",
      "Iteration 4, loss = 0.39272381\n",
      "Iteration 5, loss = 0.39061187\n",
      "Iteration 6, loss = 0.38895480\n",
      "Iteration 7, loss = 0.38727746\n",
      "Iteration 8, loss = 0.38570984\n",
      "Iteration 9, loss = 0.38416747\n",
      "Iteration 10, loss = 0.38215296\n",
      "Iteration 11, loss = 0.37984961\n",
      "Iteration 12, loss = 0.37681882\n",
      "Iteration 13, loss = 0.37473758\n",
      "Iteration 14, loss = 0.37258636\n",
      "Iteration 15, loss = 0.37095540\n",
      "Iteration 16, loss = 0.36852715\n",
      "Iteration 17, loss = 0.36613255\n",
      "Iteration 18, loss = 0.36460317\n",
      "Iteration 19, loss = 0.36286447\n",
      "Iteration 20, loss = 0.36133250\n",
      "Iteration 21, loss = 0.36026901\n",
      "Iteration 22, loss = 0.35931085\n",
      "Iteration 23, loss = 0.35861790\n",
      "Iteration 24, loss = 0.35765670\n",
      "Iteration 25, loss = 0.35666994\n",
      "Iteration 26, loss = 0.35592947\n",
      "Iteration 27, loss = 0.35535589\n",
      "Iteration 28, loss = 0.35450963\n",
      "Iteration 29, loss = 0.35416722\n",
      "Iteration 30, loss = 0.35327632\n",
      "Iteration 31, loss = 0.35258197\n",
      "Iteration 32, loss = 0.35199440\n",
      "Iteration 33, loss = 0.35138198\n",
      "Iteration 34, loss = 0.35077003\n",
      "Iteration 35, loss = 0.35056452\n",
      "Iteration 36, loss = 0.35006054\n",
      "Iteration 37, loss = 0.34915993\n",
      "Iteration 38, loss = 0.34859850\n",
      "Iteration 39, loss = 0.34769106\n",
      "Iteration 40, loss = 0.34779845\n",
      "Iteration 41, loss = 0.34729084\n",
      "Iteration 42, loss = 0.34644843\n",
      "Iteration 43, loss = 0.34559884\n",
      "Iteration 44, loss = 0.34444143\n",
      "Iteration 45, loss = 0.34384422\n",
      "Iteration 46, loss = 0.34369600\n",
      "Iteration 47, loss = 0.34240175\n",
      "Iteration 48, loss = 0.34192550\n",
      "Iteration 49, loss = 0.34082433\n",
      "Iteration 50, loss = 0.34019590\n",
      "Iteration 51, loss = 0.33951922\n",
      "Iteration 52, loss = 0.33892503\n",
      "Iteration 53, loss = 0.33860223\n",
      "Iteration 54, loss = 0.33841550\n",
      "Iteration 55, loss = 0.33777094\n",
      "Iteration 56, loss = 0.33651123\n",
      "Iteration 57, loss = 0.33561098\n",
      "Iteration 58, loss = 0.33483693\n",
      "Iteration 59, loss = 0.33409968\n",
      "Iteration 60, loss = 0.33317436\n",
      "Iteration 61, loss = 0.33301749\n",
      "Iteration 62, loss = 0.33245592\n",
      "Iteration 63, loss = 0.33213948\n",
      "Iteration 64, loss = 0.33134066\n",
      "Iteration 65, loss = 0.33044666\n",
      "Iteration 66, loss = 0.32913521\n",
      "Iteration 67, loss = 0.32863293\n",
      "Iteration 68, loss = 0.32803463\n",
      "Iteration 69, loss = 0.32737144\n",
      "Iteration 70, loss = 0.32655669\n",
      "Iteration 71, loss = 0.32634000\n",
      "Iteration 72, loss = 0.32560549\n",
      "Iteration 73, loss = 0.32530271\n",
      "Iteration 74, loss = 0.32442897\n",
      "Iteration 75, loss = 0.32357622\n",
      "Iteration 76, loss = 0.32322854\n",
      "Iteration 77, loss = 0.32228103\n",
      "Iteration 78, loss = 0.32156722\n",
      "Iteration 79, loss = 0.32130622\n",
      "Iteration 80, loss = 0.32088636\n",
      "Iteration 81, loss = 0.32013579\n",
      "Iteration 82, loss = 0.32010550\n",
      "Iteration 83, loss = 0.31891285\n",
      "Iteration 84, loss = 0.31865666\n",
      "Iteration 85, loss = 0.31827909\n",
      "Iteration 86, loss = 0.31704395\n",
      "Iteration 87, loss = 0.31685029\n",
      "Iteration 88, loss = 0.31626720\n",
      "Iteration 89, loss = 0.31587015\n",
      "Iteration 90, loss = 0.31595466\n",
      "Iteration 91, loss = 0.31527362\n",
      "Iteration 92, loss = 0.31445485\n",
      "Iteration 93, loss = 0.31407812\n",
      "Iteration 94, loss = 0.31371695\n",
      "Iteration 95, loss = 0.31345758\n",
      "Iteration 96, loss = 0.31266642\n",
      "Iteration 97, loss = 0.31182397\n",
      "Iteration 98, loss = 0.31207254\n",
      "Iteration 99, loss = 0.31147345\n",
      "Iteration 100, loss = 0.31078238\n",
      "Iteration 101, loss = 0.31056612\n",
      "Iteration 102, loss = 0.31213945\n",
      "Iteration 103, loss = 0.31023703\n",
      "Iteration 104, loss = 0.30976349\n",
      "Iteration 105, loss = 0.30918848\n",
      "Iteration 106, loss = 0.30910883\n",
      "Iteration 107, loss = 0.30847504\n",
      "Iteration 108, loss = 0.30877072\n",
      "Iteration 109, loss = 0.30802019\n",
      "Iteration 110, loss = 0.30795017\n",
      "Iteration 111, loss = 0.30850864\n",
      "Iteration 112, loss = 0.30778314\n",
      "Iteration 113, loss = 0.30673197\n",
      "Iteration 114, loss = 0.30720118\n",
      "Iteration 115, loss = 0.30713219\n",
      "Iteration 116, loss = 0.30689182\n",
      "Iteration 117, loss = 0.30655658\n",
      "Iteration 118, loss = 0.30595081\n",
      "Iteration 119, loss = 0.30552884\n",
      "Iteration 120, loss = 0.30531706\n",
      "Iteration 121, loss = 0.30534400\n",
      "Iteration 122, loss = 0.30537976\n",
      "Iteration 123, loss = 0.30460129\n",
      "Iteration 124, loss = 0.30411209\n",
      "Iteration 125, loss = 0.30362754\n",
      "Iteration 126, loss = 0.30434202\n",
      "Iteration 127, loss = 0.30315044\n",
      "Iteration 128, loss = 0.30360734\n",
      "Iteration 129, loss = 0.30256375\n",
      "Iteration 130, loss = 0.30231304\n",
      "Iteration 131, loss = 0.30343026\n",
      "Iteration 132, loss = 0.30297227\n",
      "Iteration 133, loss = 0.30228390\n",
      "Iteration 134, loss = 0.30299354\n",
      "Iteration 135, loss = 0.30233181\n",
      "Iteration 136, loss = 0.30126494\n",
      "Iteration 137, loss = 0.30183882\n",
      "Iteration 138, loss = 0.30117709\n",
      "Iteration 139, loss = 0.30075661\n",
      "Iteration 140, loss = 0.30098714\n",
      "Iteration 141, loss = 0.30092769\n",
      "Iteration 142, loss = 0.30048213\n",
      "Iteration 143, loss = 0.30004897\n",
      "Iteration 144, loss = 0.29998200\n",
      "Iteration 145, loss = 0.29944266\n",
      "Iteration 146, loss = 0.29948724\n",
      "Iteration 147, loss = 0.29893884\n",
      "Iteration 148, loss = 0.29899209\n",
      "Iteration 149, loss = 0.29850388\n",
      "Iteration 150, loss = 0.29922805\n",
      "Iteration 151, loss = 0.29887818\n",
      "Iteration 152, loss = 0.29818709\n",
      "Iteration 153, loss = 0.29797900\n",
      "Iteration 154, loss = 0.29741896\n",
      "Iteration 155, loss = 0.29722328\n",
      "Iteration 156, loss = 0.29669291\n",
      "Iteration 157, loss = 0.29729923\n",
      "Iteration 158, loss = 0.29790491\n",
      "Iteration 159, loss = 0.29644814\n",
      "Iteration 160, loss = 0.29667445\n",
      "Iteration 161, loss = 0.29662943\n",
      "Iteration 162, loss = 0.29696504\n",
      "Iteration 163, loss = 0.29640824\n",
      "Iteration 164, loss = 0.29640162\n",
      "Iteration 165, loss = 0.29496364\n",
      "Iteration 166, loss = 0.29501611\n",
      "Iteration 167, loss = 0.29564512\n",
      "Iteration 168, loss = 0.29477157\n",
      "Iteration 169, loss = 0.29418256\n",
      "Iteration 170, loss = 0.29521779\n",
      "Iteration 171, loss = 0.29445433\n",
      "Iteration 172, loss = 0.29475164\n",
      "Iteration 173, loss = 0.29377644\n",
      "Iteration 174, loss = 0.29415080\n",
      "Iteration 175, loss = 0.29329968\n",
      "Iteration 176, loss = 0.29388028\n",
      "Iteration 177, loss = 0.29377293\n",
      "Iteration 178, loss = 0.29319558\n",
      "Iteration 179, loss = 0.29305156\n",
      "Iteration 180, loss = 0.29494546\n",
      "Iteration 181, loss = 0.29251677\n",
      "Iteration 182, loss = 0.29269722\n",
      "Iteration 183, loss = 0.29234292\n",
      "Iteration 184, loss = 0.29325213\n",
      "Iteration 185, loss = 0.29219761\n",
      "Iteration 186, loss = 0.29164275\n",
      "Iteration 187, loss = 0.29276870\n",
      "Iteration 188, loss = 0.29174864\n",
      "Iteration 189, loss = 0.29110997\n",
      "Iteration 190, loss = 0.29156002\n",
      "Iteration 191, loss = 0.29083403\n",
      "Iteration 192, loss = 0.29098904\n",
      "Iteration 193, loss = 0.29039788\n",
      "Iteration 194, loss = 0.29115407\n",
      "Iteration 195, loss = 0.29044498\n",
      "Iteration 196, loss = 0.29087432\n",
      "Iteration 197, loss = 0.29039941\n",
      "Iteration 198, loss = 0.29010137\n",
      "Iteration 199, loss = 0.29008786\n",
      "Iteration 200, loss = 0.29039254\n"
     ]
    },
    {
     "name": "stderr",
     "output_type": "stream",
     "text": [
      "C:\\Users\\YN\\anaconda3\\lib\\site-packages\\sklearn\\neural_network\\_multilayer_perceptron.py:684: ConvergenceWarning: Stochastic Optimizer: Maximum iterations (200) reached and the optimization hasn't converged yet.\n",
      "  warnings.warn(\n"
     ]
    },
    {
     "data": {
      "text/html": [
       "<style>#sk-container-id-4 {color: black;background-color: white;}#sk-container-id-4 pre{padding: 0;}#sk-container-id-4 div.sk-toggleable {background-color: white;}#sk-container-id-4 label.sk-toggleable__label {cursor: pointer;display: block;width: 100%;margin-bottom: 0;padding: 0.3em;box-sizing: border-box;text-align: center;}#sk-container-id-4 label.sk-toggleable__label-arrow:before {content: \"▸\";float: left;margin-right: 0.25em;color: #696969;}#sk-container-id-4 label.sk-toggleable__label-arrow:hover:before {color: black;}#sk-container-id-4 div.sk-estimator:hover label.sk-toggleable__label-arrow:before {color: black;}#sk-container-id-4 div.sk-toggleable__content {max-height: 0;max-width: 0;overflow: hidden;text-align: left;background-color: #f0f8ff;}#sk-container-id-4 div.sk-toggleable__content pre {margin: 0.2em;color: black;border-radius: 0.25em;background-color: #f0f8ff;}#sk-container-id-4 input.sk-toggleable__control:checked~div.sk-toggleable__content {max-height: 200px;max-width: 100%;overflow: auto;}#sk-container-id-4 input.sk-toggleable__control:checked~label.sk-toggleable__label-arrow:before {content: \"▾\";}#sk-container-id-4 div.sk-estimator input.sk-toggleable__control:checked~label.sk-toggleable__label {background-color: #d4ebff;}#sk-container-id-4 div.sk-label input.sk-toggleable__control:checked~label.sk-toggleable__label {background-color: #d4ebff;}#sk-container-id-4 input.sk-hidden--visually {border: 0;clip: rect(1px 1px 1px 1px);clip: rect(1px, 1px, 1px, 1px);height: 1px;margin: -1px;overflow: hidden;padding: 0;position: absolute;width: 1px;}#sk-container-id-4 div.sk-estimator {font-family: monospace;background-color: #f0f8ff;border: 1px dotted black;border-radius: 0.25em;box-sizing: border-box;margin-bottom: 0.5em;}#sk-container-id-4 div.sk-estimator:hover {background-color: #d4ebff;}#sk-container-id-4 div.sk-parallel-item::after {content: \"\";width: 100%;border-bottom: 1px solid gray;flex-grow: 1;}#sk-container-id-4 div.sk-label:hover label.sk-toggleable__label {background-color: #d4ebff;}#sk-container-id-4 div.sk-serial::before {content: \"\";position: absolute;border-left: 1px solid gray;box-sizing: border-box;top: 0;bottom: 0;left: 50%;z-index: 0;}#sk-container-id-4 div.sk-serial {display: flex;flex-direction: column;align-items: center;background-color: white;padding-right: 0.2em;padding-left: 0.2em;position: relative;}#sk-container-id-4 div.sk-item {position: relative;z-index: 1;}#sk-container-id-4 div.sk-parallel {display: flex;align-items: stretch;justify-content: center;background-color: white;position: relative;}#sk-container-id-4 div.sk-item::before, #sk-container-id-4 div.sk-parallel-item::before {content: \"\";position: absolute;border-left: 1px solid gray;box-sizing: border-box;top: 0;bottom: 0;left: 50%;z-index: -1;}#sk-container-id-4 div.sk-parallel-item {display: flex;flex-direction: column;z-index: 1;position: relative;background-color: white;}#sk-container-id-4 div.sk-parallel-item:first-child::after {align-self: flex-end;width: 50%;}#sk-container-id-4 div.sk-parallel-item:last-child::after {align-self: flex-start;width: 50%;}#sk-container-id-4 div.sk-parallel-item:only-child::after {width: 0;}#sk-container-id-4 div.sk-dashed-wrapped {border: 1px dashed gray;margin: 0 0.4em 0.5em 0.4em;box-sizing: border-box;padding-bottom: 0.4em;background-color: white;}#sk-container-id-4 div.sk-label label {font-family: monospace;font-weight: bold;display: inline-block;line-height: 1.2em;}#sk-container-id-4 div.sk-label-container {text-align: center;}#sk-container-id-4 div.sk-container {/* jupyter's `normalize.less` sets `[hidden] { display: none; }` but bootstrap.min.css set `[hidden] { display: none !important; }` so we also need the `!important` here to be able to override the default hidden behavior on the sphinx rendered scikit-learn.org. See: https://github.com/scikit-learn/scikit-learn/issues/21755 */display: inline-block !important;position: relative;}#sk-container-id-4 div.sk-text-repr-fallback {display: none;}</style><div id=\"sk-container-id-4\" class=\"sk-top-container\"><div class=\"sk-text-repr-fallback\"><pre>MLPClassifier(hidden_layer_sizes=(16, 16), verbose=1)</pre><b>In a Jupyter environment, please rerun this cell to show the HTML representation or trust the notebook. <br />On GitHub, the HTML representation is unable to render, please try loading this page with nbviewer.org.</b></div><div class=\"sk-container\" hidden><div class=\"sk-item\"><div class=\"sk-estimator sk-toggleable\"><input class=\"sk-toggleable__control sk-hidden--visually\" id=\"sk-estimator-id-4\" type=\"checkbox\" checked><label for=\"sk-estimator-id-4\" class=\"sk-toggleable__label sk-toggleable__label-arrow\">MLPClassifier</label><div class=\"sk-toggleable__content\"><pre>MLPClassifier(hidden_layer_sizes=(16, 16), verbose=1)</pre></div></div></div></div></div>"
      ],
      "text/plain": [
       "MLPClassifier(hidden_layer_sizes=(16, 16), verbose=1)"
      ]
     },
     "execution_count": 77,
     "metadata": {},
     "output_type": "execute_result"
    }
   ],
   "source": [
    "nn_model.fit(X_train, y_train)\n"
   ]
  },
  {
   "cell_type": "markdown",
   "id": "11f29145",
   "metadata": {},
   "source": [
    "## Results"
   ]
  },
  {
   "cell_type": "code",
   "execution_count": 80,
   "id": "63c42625",
   "metadata": {},
   "outputs": [
    {
     "name": "stdout",
     "output_type": "stream",
     "text": [
      "0.8758223684210527\n",
      "0.8758223684210527\n",
      "0.9021381578947368\n"
     ]
    }
   ],
   "source": [
    "print(log_model.score(X_test,y_test))\n",
    "print(svm_model.score(X_test,y_test))\n",
    "print(nn_model.score(X_test,y_test))"
   ]
  },
  {
   "cell_type": "markdown",
   "id": "85ac0d49",
   "metadata": {},
   "source": [
    "### The accuracy metric here is not very useful ,Why is that?"
   ]
  },
  {
   "cell_type": "code",
   "execution_count": 81,
   "id": "6c77b449",
   "metadata": {},
   "outputs": [
    {
     "data": {
      "text/plain": [
       "0.8633223684210526"
      ]
     },
     "execution_count": 81,
     "metadata": {},
     "output_type": "execute_result"
    }
   ],
   "source": [
    "data[data.columns[0]].sum()/data.shape[0]"
   ]
  },
  {
   "cell_type": "markdown",
   "id": "29bdee62",
   "metadata": {},
   "source": [
    "#### the number above is the number of 1s in our data set, which is surprisngly close to the accuracy of our models , meaning the model predicted all 1s and got this accuracy which is not what we want"
   ]
  },
  {
   "cell_type": "code",
   "execution_count": 82,
   "id": "c8d14ad4",
   "metadata": {},
   "outputs": [],
   "source": [
    "from sklearn.metrics import f1_score"
   ]
  },
  {
   "cell_type": "code",
   "execution_count": 83,
   "id": "c4f7b930",
   "metadata": {},
   "outputs": [],
   "source": [
    "log_pred = log_model.predict(X_test)\n",
    "svm_pred = svm_model.predict(X_test)\n",
    "nn_pred = nn_model.predict(X_test)"
   ]
  },
  {
   "cell_type": "code",
   "execution_count": 84,
   "id": "7ad3c35e",
   "metadata": {},
   "outputs": [
    {
     "data": {
      "text/plain": [
       "0.9338009644892591"
      ]
     },
     "execution_count": 84,
     "metadata": {},
     "output_type": "execute_result"
    }
   ],
   "source": [
    "f1_score(log_pred, y_test)"
   ]
  },
  {
   "cell_type": "code",
   "execution_count": 87,
   "id": "11b76d60",
   "metadata": {},
   "outputs": [
    {
     "data": {
      "text/plain": [
       "0.9338009644892591"
      ]
     },
     "execution_count": 87,
     "metadata": {},
     "output_type": "execute_result"
    }
   ],
   "source": [
    "f1_score(svm_pred, y_test)"
   ]
  },
  {
   "cell_type": "code",
   "execution_count": 86,
   "id": "9fc12b2d",
   "metadata": {},
   "outputs": [
    {
     "data": {
      "text/plain": [
       "0.9466128308658591"
      ]
     },
     "execution_count": 86,
     "metadata": {},
     "output_type": "execute_result"
    }
   ],
   "source": [
    "f1_score(nn_pred, y_test)"
   ]
  },
  {
   "cell_type": "markdown",
   "id": "78f89c77",
   "metadata": {},
   "source": [
    "## F1_score is a better Evaluation method"
   ]
  }
 ],
 "metadata": {
  "kernelspec": {
   "display_name": "Python 3 (ipykernel)",
   "language": "python",
   "name": "python3"
  },
  "language_info": {
   "codemirror_mode": {
    "name": "ipython",
    "version": 3
   },
   "file_extension": ".py",
   "mimetype": "text/x-python",
   "name": "python",
   "nbconvert_exporter": "python",
   "pygments_lexer": "ipython3",
   "version": "3.10.9"
  }
 },
 "nbformat": 4,
 "nbformat_minor": 5
}
